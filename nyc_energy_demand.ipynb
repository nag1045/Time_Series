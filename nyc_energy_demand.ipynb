{
  "nbformat": 4,
  "nbformat_minor": 0,
  "metadata": {
    "colab": {
      "name": "nyc_energy_demand.ipynb",
      "provenance": [],
      "authorship_tag": "ABX9TyNYt0yfKfSHCgcu76ZOVyjP",
      "include_colab_link": true
    },
    "kernelspec": {
      "name": "python3",
      "display_name": "Python 3"
    },
    "language_info": {
      "name": "python"
    }
  },
  "cells": [
    {
      "cell_type": "markdown",
      "metadata": {
        "id": "view-in-github",
        "colab_type": "text"
      },
      "source": [
        "<a href=\"https://colab.research.google.com/github/nag1045/Time_Series/blob/main/nyc_energy_demand.ipynb\" target=\"_parent\"><img src=\"https://colab.research.google.com/assets/colab-badge.svg\" alt=\"Open In Colab\"/></a>"
      ]
    },
    {
      "cell_type": "code",
      "metadata": {
        "id": "AAosZD2VRsBj"
      },
      "source": [
        "import pandas as pd "
      ],
      "execution_count": null,
      "outputs": []
    },
    {
      "cell_type": "code",
      "metadata": {
        "id": "KBSj4p7iR0YZ"
      },
      "source": [
        "df = pd.read_csv('https://raw.githubusercontent.com/srivatsan88/YouTubeLI/master/dataset/nyc_energy_consumption.csv')"
      ],
      "execution_count": null,
      "outputs": []
    },
    {
      "cell_type": "code",
      "metadata": {
        "colab": {
          "base_uri": "https://localhost:8080/"
        },
        "id": "5b1xmNhmSFcI",
        "outputId": "efb7f5e9-3c71-4fa9-8d9f-457195721200"
      },
      "source": [
        "df.info()"
      ],
      "execution_count": null,
      "outputs": [
        {
          "output_type": "stream",
          "text": [
            "<class 'pandas.core.frame.DataFrame'>\n",
            "RangeIndex: 49205 entries, 0 to 49204\n",
            "Data columns (total 4 columns):\n",
            " #   Column     Non-Null Count  Dtype  \n",
            "---  ------     --------------  -----  \n",
            " 0   timeStamp  49205 non-null  object \n",
            " 1   demand     49124 non-null  float64\n",
            " 2   precip     48975 non-null  float64\n",
            " 3   temp       49019 non-null  float64\n",
            "dtypes: float64(3), object(1)\n",
            "memory usage: 1.5+ MB\n"
          ],
          "name": "stdout"
        }
      ]
    },
    {
      "cell_type": "code",
      "metadata": {
        "colab": {
          "base_uri": "https://localhost:8080/",
          "height": 204
        },
        "id": "koVtixaoR3wc",
        "outputId": "8ab92821-2091-4411-ec75-5ac7112207ab"
      },
      "source": [
        "df.head()"
      ],
      "execution_count": null,
      "outputs": [
        {
          "output_type": "execute_result",
          "data": {
            "text/html": [
              "<div>\n",
              "<style scoped>\n",
              "    .dataframe tbody tr th:only-of-type {\n",
              "        vertical-align: middle;\n",
              "    }\n",
              "\n",
              "    .dataframe tbody tr th {\n",
              "        vertical-align: top;\n",
              "    }\n",
              "\n",
              "    .dataframe thead th {\n",
              "        text-align: right;\n",
              "    }\n",
              "</style>\n",
              "<table border=\"1\" class=\"dataframe\">\n",
              "  <thead>\n",
              "    <tr style=\"text-align: right;\">\n",
              "      <th></th>\n",
              "      <th>timeStamp</th>\n",
              "      <th>demand</th>\n",
              "      <th>precip</th>\n",
              "      <th>temp</th>\n",
              "    </tr>\n",
              "  </thead>\n",
              "  <tbody>\n",
              "    <tr>\n",
              "      <th>0</th>\n",
              "      <td>2012-01-01 00:00:00</td>\n",
              "      <td>4937.5</td>\n",
              "      <td>0.0</td>\n",
              "      <td>46.13</td>\n",
              "    </tr>\n",
              "    <tr>\n",
              "      <th>1</th>\n",
              "      <td>2012-01-01 01:00:00</td>\n",
              "      <td>4752.1</td>\n",
              "      <td>0.0</td>\n",
              "      <td>45.89</td>\n",
              "    </tr>\n",
              "    <tr>\n",
              "      <th>2</th>\n",
              "      <td>2012-01-01 02:00:00</td>\n",
              "      <td>4542.6</td>\n",
              "      <td>0.0</td>\n",
              "      <td>45.04</td>\n",
              "    </tr>\n",
              "    <tr>\n",
              "      <th>3</th>\n",
              "      <td>2012-01-01 03:00:00</td>\n",
              "      <td>4357.7</td>\n",
              "      <td>0.0</td>\n",
              "      <td>45.03</td>\n",
              "    </tr>\n",
              "    <tr>\n",
              "      <th>4</th>\n",
              "      <td>2012-01-01 04:00:00</td>\n",
              "      <td>4275.5</td>\n",
              "      <td>0.0</td>\n",
              "      <td>42.61</td>\n",
              "    </tr>\n",
              "  </tbody>\n",
              "</table>\n",
              "</div>"
            ],
            "text/plain": [
              "             timeStamp  demand  precip   temp\n",
              "0  2012-01-01 00:00:00  4937.5     0.0  46.13\n",
              "1  2012-01-01 01:00:00  4752.1     0.0  45.89\n",
              "2  2012-01-01 02:00:00  4542.6     0.0  45.04\n",
              "3  2012-01-01 03:00:00  4357.7     0.0  45.03\n",
              "4  2012-01-01 04:00:00  4275.5     0.0  42.61"
            ]
          },
          "metadata": {
            "tags": []
          },
          "execution_count": 71
        }
      ]
    },
    {
      "cell_type": "code",
      "metadata": {
        "id": "35qtgWZBkwJk"
      },
      "source": [
        "df['timeStamp']= pd.to_datetime(df['timeStamp'])"
      ],
      "execution_count": null,
      "outputs": []
    },
    {
      "cell_type": "code",
      "metadata": {
        "id": "6RSfC0IhkzKW"
      },
      "source": [
        "my_df=df.set_index('timeStamp')"
      ],
      "execution_count": null,
      "outputs": []
    },
    {
      "cell_type": "code",
      "metadata": {
        "colab": {
          "base_uri": "https://localhost:8080/",
          "height": 337
        },
        "id": "qbmF_HmoSUqI",
        "outputId": "3bd5a73d-a7cd-4b40-862b-c9423a4c4809"
      },
      "source": [
        "my_df.plot(subplots=True)"
      ],
      "execution_count": null,
      "outputs": [
        {
          "output_type": "execute_result",
          "data": {
            "text/plain": [
              "array([<matplotlib.axes._subplots.AxesSubplot object at 0x7fbfeca88d10>,\n",
              "       <matplotlib.axes._subplots.AxesSubplot object at 0x7fbfecaa3590>,\n",
              "       <matplotlib.axes._subplots.AxesSubplot object at 0x7fbfeca8c450>],\n",
              "      dtype=object)"
            ]
          },
          "metadata": {
            "tags": []
          },
          "execution_count": 85
        },
        {
          "output_type": "display_data",
          "data": {
            "image/png": "[encoded data removed]",
            "text/plain": [
              "<Figure size 432x288 with 3 Axes>"
            ]
          },
          "metadata": {
            "tags": [],
            "needs_background": "light"
          }
        }
      ]
    },
    {
      "cell_type": "code",
      "metadata": {
        "colab": {
          "base_uri": "https://localhost:8080/",
          "height": 80
        },
        "id": "867Z5JSbTbQR",
        "outputId": "3d802409-423f-4d5e-c014-4572151c3f2a"
      },
      "source": [
        "\n",
        "#this method of null checking is quite efficient\n",
        "#most of the null and nan values are objects so if your column data type is not object then youcan use this\n",
        "my_df.query('demand!=demand')"
      ],
      "execution_count": null,
      "outputs": [
        {
          "output_type": "execute_result",
          "data": {
            "text/html": [
              "<div>\n",
              "<style scoped>\n",
              "    .dataframe tbody tr th:only-of-type {\n",
              "        vertical-align: middle;\n",
              "    }\n",
              "\n",
              "    .dataframe tbody tr th {\n",
              "        vertical-align: top;\n",
              "    }\n",
              "\n",
              "    .dataframe thead th {\n",
              "        text-align: right;\n",
              "    }\n",
              "</style>\n",
              "<table border=\"1\" class=\"dataframe\">\n",
              "  <thead>\n",
              "    <tr style=\"text-align: right;\">\n",
              "      <th></th>\n",
              "      <th>demand</th>\n",
              "      <th>precip</th>\n",
              "      <th>temp</th>\n",
              "    </tr>\n",
              "    <tr>\n",
              "      <th>timeStamp</th>\n",
              "      <th></th>\n",
              "      <th></th>\n",
              "      <th></th>\n",
              "    </tr>\n",
              "  </thead>\n",
              "  <tbody>\n",
              "  </tbody>\n",
              "</table>\n",
              "</div>"
            ],
            "text/plain": [
              "Empty DataFrame\n",
              "Columns: [demand, precip, temp]\n",
              "Index: []"
            ]
          },
          "metadata": {
            "tags": []
          },
          "execution_count": 86
        }
      ]
    },
    {
      "cell_type": "code",
      "metadata": {
        "colab": {
          "base_uri": "https://localhost:8080/",
          "height": 49
        },
        "id": "QYt4800kTzli",
        "outputId": "df03c27c-38f4-427d-d073-15d5328fa6be"
      },
      "source": [
        "df.query('temp!=temp')"
      ],
      "execution_count": null,
      "outputs": [
        {
          "output_type": "execute_result",
          "data": {
            "text/html": [
              "<div>\n",
              "<style scoped>\n",
              "    .dataframe tbody tr th:only-of-type {\n",
              "        vertical-align: middle;\n",
              "    }\n",
              "\n",
              "    .dataframe tbody tr th {\n",
              "        vertical-align: top;\n",
              "    }\n",
              "\n",
              "    .dataframe thead th {\n",
              "        text-align: right;\n",
              "    }\n",
              "</style>\n",
              "<table border=\"1\" class=\"dataframe\">\n",
              "  <thead>\n",
              "    <tr style=\"text-align: right;\">\n",
              "      <th></th>\n",
              "      <th>timeStamp</th>\n",
              "      <th>demand</th>\n",
              "      <th>precip</th>\n",
              "      <th>temp</th>\n",
              "    </tr>\n",
              "  </thead>\n",
              "  <tbody>\n",
              "  </tbody>\n",
              "</table>\n",
              "</div>"
            ],
            "text/plain": [
              "Empty DataFrame\n",
              "Columns: [timeStamp, demand, precip, temp]\n",
              "Index: []"
            ]
          },
          "metadata": {
            "tags": []
          },
          "execution_count": 87
        }
      ]
    },
    {
      "cell_type": "markdown",
      "metadata": {
        "id": "pUVWYw4pUBXg"
      },
      "source": [
        "#filling null values using forward fill inside demand and emperature columns"
      ]
    },
    {
      "cell_type": "code",
      "metadata": {
        "id": "PcGpmQC9Txbu"
      },
      "source": [
        "my_df['demand']=my_df['demand'].fillna(method='ffill')\n",
        "my_df['temp']=my_df['temp'].fillna(method='ffill')"
      ],
      "execution_count": null,
      "outputs": []
    },
    {
      "cell_type": "markdown",
      "metadata": {
        "id": "kqa7uyf4UuvY"
      },
      "source": [
        "#Rechecking the both columns"
      ]
    },
    {
      "cell_type": "code",
      "metadata": {
        "colab": {
          "base_uri": "https://localhost:8080/"
        },
        "id": "4V2SaybnUfSZ",
        "outputId": "0351f4b4-4236-4ef9-be1f-cc97a4bc3327"
      },
      "source": [
        "my_df.demand.isnull().any()"
      ],
      "execution_count": null,
      "outputs": [
        {
          "output_type": "execute_result",
          "data": {
            "text/plain": [
              "False"
            ]
          },
          "metadata": {
            "tags": []
          },
          "execution_count": 90
        }
      ]
    },
    {
      "cell_type": "code",
      "metadata": {
        "colab": {
          "base_uri": "https://localhost:8080/"
        },
        "id": "hiIh47fDUr6j",
        "outputId": "13aec2fe-c827-47b9-d1cb-0716b7fdcc43"
      },
      "source": [
        "my_df.temp.isnull().any()"
      ],
      "execution_count": null,
      "outputs": [
        {
          "output_type": "execute_result",
          "data": {
            "text/plain": [
              "False"
            ]
          },
          "metadata": {
            "tags": []
          },
          "execution_count": 91
        }
      ]
    },
    {
      "cell_type": "markdown",
      "metadata": {
        "id": "PxU8DjTHVOrv"
      },
      "source": [
        "#Resampling the data monthy because it will be easy to visualize and to handle "
      ]
    },
    {
      "cell_type": "code",
      "metadata": {
        "id": "GDJp38uqVXgi"
      },
      "source": [
        "df_monthly=my_df.resample('M').mean()"
      ],
      "execution_count": null,
      "outputs": []
    },
    {
      "cell_type": "code",
      "metadata": {
        "colab": {
          "base_uri": "https://localhost:8080/",
          "height": 337
        },
        "id": "yKQBxbJeVeJm",
        "outputId": "02d4f3c0-70bf-474e-873d-d396c9454d88"
      },
      "source": [
        "df_monthly.plot(subplots=True)"
      ],
      "execution_count": null,
      "outputs": [
        {
          "output_type": "execute_result",
          "data": {
            "text/plain": [
              "array([<matplotlib.axes._subplots.AxesSubplot object at 0x7fbfec7338d0>,\n",
              "       <matplotlib.axes._subplots.AxesSubplot object at 0x7fbfed171cd0>,\n",
              "       <matplotlib.axes._subplots.AxesSubplot object at 0x7fbfed63c550>],\n",
              "      dtype=object)"
            ]
          },
          "metadata": {
            "tags": []
          },
          "execution_count": 94
        },
        {
          "output_type": "display_data",
          "data": {
            "image/png": "[encoded data removed]",
            "text/plain": [
              "<Figure size 432x288 with 3 Axes>"
            ]
          },
          "metadata": {
            "tags": [],
            "needs_background": "light"
          }
        }
      ]
    },
    {
      "cell_type": "code",
      "metadata": {
        "colab": {
          "base_uri": "https://localhost:8080/"
        },
        "id": "D_9n8_3nWIk5",
        "outputId": "91041f51-66e9-4289-edee-a3d9c7a84386"
      },
      "source": [
        "!pip install pmdarima"
      ],
      "execution_count": null,
      "outputs": [
        {
          "output_type": "stream",
          "text": [
            "Collecting pmdarima\n",
            "\u001b[?25l  Downloading https://files.pythonhosted.org/packages/f4/c2/2a94bce6bba1deac3c0b16dbb14f28de0b9035e3211919cae8448455aa65/pmdarima-1.8.2-cp37-cp37m-manylinux1_x86_64.whl (1.5MB)\n",
            "\u001b[K     |████████████████████████████████| 1.5MB 16.2MB/s \n",
            "\u001b[?25hCollecting statsmodels!=0.12.0,>=0.11\n",
            "\u001b[?25l  Downloading https://files.pythonhosted.org/packages/da/69/8eef30a6237c54f3c0b524140e2975f4b1eea3489b45eb3339574fc8acee/statsmodels-0.12.2-cp37-cp37m-manylinux1_x86_64.whl (9.5MB)\n",
            "\u001b[K     |████████████████████████████████| 9.5MB 39.0MB/s \n",
            "\u001b[?25hRequirement already satisfied: setuptools!=50.0.0,>=38.6.0 in /usr/local/lib/python3.7/dist-packages (from pmdarima) (57.0.0)\n",
            "Requirement already satisfied: urllib3 in /usr/local/lib/python3.7/dist-packages (from pmdarima) (1.24.3)\n",
            "Requirement already satisfied: joblib>=0.11 in /usr/local/lib/python3.7/dist-packages (from pmdarima) (1.0.1)\n",
            "Requirement already satisfied: scipy>=1.3.2 in /usr/local/lib/python3.7/dist-packages (from pmdarima) (1.4.1)\n",
            "Requirement already satisfied: scikit-learn>=0.22 in /usr/local/lib/python3.7/dist-packages (from pmdarima) (0.22.2.post1)\n",
            "Requirement already satisfied: pandas>=0.19 in /usr/local/lib/python3.7/dist-packages (from pmdarima) (1.1.5)\n",
            "Requirement already satisfied: Cython!=0.29.18,>=0.29 in /usr/local/lib/python3.7/dist-packages (from pmdarima) (0.29.23)\n",
            "Requirement already satisfied: numpy~=1.19.0 in /usr/local/lib/python3.7/dist-packages (from pmdarima) (1.19.5)\n",
            "Requirement already satisfied: patsy>=0.5 in /usr/local/lib/python3.7/dist-packages (from statsmodels!=0.12.0,>=0.11->pmdarima) (0.5.1)\n",
            "Requirement already satisfied: python-dateutil>=2.7.3 in /usr/local/lib/python3.7/dist-packages (from pandas>=0.19->pmdarima) (2.8.1)\n",
            "Requirement already satisfied: pytz>=2017.2 in /usr/local/lib/python3.7/dist-packages (from pandas>=0.19->pmdarima) (2018.9)\n",
            "Requirement already satisfied: six in /usr/local/lib/python3.7/dist-packages (from patsy>=0.5->statsmodels!=0.12.0,>=0.11->pmdarima) (1.15.0)\n",
            "Installing collected packages: statsmodels, pmdarima\n",
            "  Found existing installation: statsmodels 0.10.2\n",
            "    Uninstalling statsmodels-0.10.2:\n",
            "      Successfully uninstalled statsmodels-0.10.2\n",
            "Successfully installed pmdarima-1.8.2 statsmodels-0.12.2\n"
          ],
          "name": "stdout"
        }
      ]
    },
    {
      "cell_type": "code",
      "metadata": {
        "id": "2gbWhPkaWIVS"
      },
      "source": [
        "import pmdarima as pm\n",
        "from pmdarima.model_selection import train_test_split\n",
        "import numpy as np\n",
        "import matplotlib.pyplot as plt"
      ],
      "execution_count": null,
      "outputs": []
    },
    {
      "cell_type": "code",
      "metadata": {
        "colab": {
          "base_uri": "https://localhost:8080/"
        },
        "id": "OwH-5ns5eDU0",
        "outputId": "dc11e3ad-90c2-4f9e-8278-9a745e414e51"
      },
      "source": [
        "df_monthly.shape"
      ],
      "execution_count": null,
      "outputs": [
        {
          "output_type": "execute_result",
          "data": {
            "text/plain": [
              "(68, 3)"
            ]
          },
          "metadata": {
            "tags": []
          },
          "execution_count": 96
        }
      ]
    },
    {
      "cell_type": "code",
      "metadata": {
        "id": "Rec84GEodotT"
      },
      "source": [
        "# Load/split your data\n",
        "y = df_monthly.demand\n",
        "train, test = train_test_split(y, train_size=50)"
      ],
      "execution_count": null,
      "outputs": []
    },
    {
      "cell_type": "code",
      "metadata": {
        "colab": {
          "base_uri": "https://localhost:8080/"
        },
        "id": "0miXPjxngpc4",
        "outputId": "0e4902ce-1fcc-4277-f98f-be01366e8cae"
      },
      "source": [
        "train.shape,test.shape"
      ],
      "execution_count": null,
      "outputs": [
        {
          "output_type": "execute_result",
          "data": {
            "text/plain": [
              "((50,), (18,))"
            ]
          },
          "metadata": {
            "tags": []
          },
          "execution_count": 235
        }
      ]
    },
    {
      "cell_type": "code",
      "metadata": {
        "colab": {
          "base_uri": "https://localhost:8080/"
        },
        "id": "mhTokDCU92ez",
        "outputId": "73a0d133-91f4-496e-ca43-333aa4db1c65"
      },
      "source": [
        "#Not a good model\n",
        "model = pm.auto_arima( train, start_p=10,max_p = 20, start_q=10,max_q=20, seasonal=True, trace = True, random_state=7)"
      ],
      "execution_count": null,
      "outputs": [
        {
          "output_type": "stream",
          "text": [
            "Performing stepwise search to minimize aic\n",
            " ARIMA(10,0,10)(0,0,0)[0] intercept   : AIC=inf, Time=1.37 sec\n",
            " ARIMA(0,0,0)(0,0,0)[0] intercept   : AIC=805.585, Time=0.01 sec\n",
            " ARIMA(1,0,0)(0,0,0)[0] intercept   : AIC=781.851, Time=0.02 sec\n",
            " ARIMA(0,0,1)(0,0,0)[0] intercept   : AIC=774.266, Time=0.03 sec\n",
            " ARIMA(0,0,0)(0,0,0)[0]             : AIC=1015.495, Time=0.00 sec\n",
            " ARIMA(1,0,1)(0,0,0)[0] intercept   : AIC=768.467, Time=0.09 sec\n",
            " ARIMA(2,0,1)(0,0,0)[0] intercept   : AIC=755.205, Time=0.10 sec\n",
            " ARIMA(2,0,0)(0,0,0)[0] intercept   : AIC=752.916, Time=0.04 sec\n",
            " ARIMA(3,0,0)(0,0,0)[0] intercept   : AIC=754.795, Time=0.06 sec\n",
            " ARIMA(3,0,1)(0,0,0)[0] intercept   : AIC=756.777, Time=0.09 sec\n",
            " ARIMA(2,0,0)(0,0,0)[0]             : AIC=788.729, Time=0.04 sec\n",
            "\n",
            "Best model:  ARIMA(2,0,0)(0,0,0)[0] intercept\n",
            "Total fit time: 1.868 seconds\n"
          ],
          "name": "stdout"
        }
      ]
    },
    {
      "cell_type": "code",
      "metadata": {
        "colab": {
          "base_uri": "https://localhost:8080/"
        },
        "id": "6zSOrTT7eMtO",
        "outputId": "3b7d3a73-066a-4762-e6a4-63f4e773a2b7"
      },
      "source": [
        "# Fit your model\n",
        "model = pm.auto_arima( train, start_p=0 , start_q=0,max_order=4,m=12 , seasonal=True, trace = True, stepwise=True) #seasonal =False\n"
      ],
      "execution_count": null,
      "outputs": [
        {
          "output_type": "stream",
          "text": [
            "Performing stepwise search to minimize aic\n",
            " ARIMA(0,0,0)(1,1,1)[12] intercept   : AIC=inf, Time=0.30 sec\n",
            " ARIMA(0,0,0)(0,1,0)[12] intercept   : AIC=544.510, Time=0.01 sec\n",
            " ARIMA(1,0,0)(1,1,0)[12] intercept   : AIC=543.157, Time=0.24 sec\n",
            " ARIMA(0,0,1)(0,1,1)[12] intercept   : AIC=539.216, Time=0.26 sec\n",
            " ARIMA(0,0,0)(0,1,0)[12]             : AIC=542.562, Time=0.01 sec\n",
            " ARIMA(0,0,1)(0,1,0)[12] intercept   : AIC=539.900, Time=0.05 sec\n",
            " ARIMA(0,0,1)(1,1,1)[12] intercept   : AIC=inf, Time=0.41 sec\n",
            " ARIMA(0,0,1)(0,1,2)[12] intercept   : AIC=inf, Time=0.56 sec\n",
            " ARIMA(0,0,1)(1,1,0)[12] intercept   : AIC=540.394, Time=0.20 sec\n",
            " ARIMA(0,0,1)(1,1,2)[12] intercept   : AIC=inf, Time=0.93 sec\n",
            " ARIMA(0,0,0)(0,1,1)[12] intercept   : AIC=544.042, Time=0.17 sec\n",
            " ARIMA(1,0,1)(0,1,1)[12] intercept   : AIC=inf, Time=0.36 sec\n",
            " ARIMA(0,0,2)(0,1,1)[12] intercept   : AIC=inf, Time=0.39 sec\n",
            " ARIMA(1,0,0)(0,1,1)[12] intercept   : AIC=541.955, Time=0.22 sec\n",
            " ARIMA(1,0,2)(0,1,1)[12] intercept   : AIC=inf, Time=0.52 sec\n",
            " ARIMA(0,0,1)(0,1,1)[12]             : AIC=537.646, Time=0.12 sec\n",
            " ARIMA(0,0,1)(0,1,0)[12]             : AIC=538.041, Time=0.03 sec\n",
            " ARIMA(0,0,1)(1,1,1)[12]             : AIC=538.695, Time=0.34 sec\n",
            " ARIMA(0,0,1)(0,1,2)[12]             : AIC=537.018, Time=0.40 sec\n",
            " ARIMA(0,0,1)(1,1,2)[12]             : AIC=inf, Time=0.85 sec\n",
            " ARIMA(0,0,0)(0,1,2)[12]             : AIC=inf, Time=0.32 sec\n",
            " ARIMA(1,0,1)(0,1,2)[12]             : AIC=inf, Time=0.50 sec\n",
            " ARIMA(0,0,2)(0,1,2)[12]             : AIC=537.016, Time=0.52 sec\n",
            " ARIMA(0,0,2)(0,1,1)[12]             : AIC=inf, Time=0.18 sec\n",
            " ARIMA(0,0,2)(1,1,2)[12]             : AIC=inf, Time=0.78 sec\n",
            " ARIMA(0,0,2)(1,1,1)[12]             : AIC=inf, Time=0.51 sec\n",
            " ARIMA(1,0,2)(0,1,2)[12]             : AIC=inf, Time=0.87 sec\n",
            " ARIMA(0,0,3)(0,1,2)[12]             : AIC=inf, Time=0.87 sec\n",
            " ARIMA(1,0,3)(0,1,2)[12]             : AIC=inf, Time=1.06 sec\n",
            " ARIMA(0,0,2)(0,1,2)[12] intercept   : AIC=inf, Time=0.90 sec\n",
            "\n",
            "Best model:  ARIMA(0,0,2)(0,1,2)[12]          \n",
            "Total fit time: 12.939 seconds\n"
          ],
          "name": "stdout"
        }
      ]
    },
    {
      "cell_type": "code",
      "metadata": {
        "id": "wfMHab3TerSm"
      },
      "source": [
        "forecasts = pd.DataFrame(model.predict(n_periods=18),columns=['Prediction'])"
      ],
      "execution_count": null,
      "outputs": []
    },
    {
      "cell_type": "code",
      "metadata": {
        "colab": {
          "base_uri": "https://localhost:8080/"
        },
        "id": "i12bp374iMjy",
        "outputId": "ab3963ba-da6b-4d25-ceef-9722ebd1ac30"
      },
      "source": [
        "forecasts.shape\n",
        "\n",
        "\n"
      ],
      "execution_count": null,
      "outputs": [
        {
          "output_type": "execute_result",
          "data": {
            "text/plain": [
              "(18, 1)"
            ]
          },
          "metadata": {
            "tags": []
          },
          "execution_count": 238
        }
      ]
    },
    {
      "cell_type": "code",
      "metadata": {
        "id": "c2zKIGo9zDCU"
      },
      "source": [
        "forecast=model.predict(test.shape[0],return_conf_int=True)"
      ],
      "execution_count": null,
      "outputs": []
    },
    {
      "cell_type": "code",
      "metadata": {
        "colab": {
          "base_uri": "https://localhost:8080/"
        },
        "id": "yvjECUSIzOC9",
        "outputId": "2cf247ec-f9fb-4b6e-e211-b22e6cefa7f2"
      },
      "source": [
        "forecast"
      ],
      "execution_count": null,
      "outputs": [
        {
          "output_type": "execute_result",
          "data": {
            "text/plain": [
              "(array([5475.18087059, 5307.10118685, 5687.34033526, 6496.42248642,\n",
              "        7642.29663816, 7357.84302707, 6612.76664553, 5354.43524456,\n",
              "        5299.69598451, 5470.55605678, 5789.51126298, 5676.88345055,\n",
              "        5462.88137038, 5300.53211688, 5619.13911324, 6489.43398762,\n",
              "        7558.88315347, 7176.97052442]), array([[5044.81235049, 5905.54939069],\n",
              "        [4844.68810952, 5769.51426417],\n",
              "        [5214.56038158, 6160.12028895],\n",
              "        [6023.64252679, 6969.20244605],\n",
              "        [7169.51667784, 8115.07659849],\n",
              "        [6885.0630668 , 7830.62298733],\n",
              "        [6139.9867137 , 7085.54657736],\n",
              "        [4881.65555382, 5827.2149353 ],\n",
              "        [4827.15944487, 5772.23252414],\n",
              "        [4998.71508765, 5942.39702592],\n",
              "        [5322.58733867, 6256.43518729],\n",
              "        [5209.96537376, 6143.80152734],\n",
              "        [4895.37370218, 6030.38903858],\n",
              "        [4719.04593771, 5882.01829605],\n",
              "        [5032.99055946, 6205.28766703],\n",
              "        [5903.2854258 , 7075.58254944],\n",
              "        [6972.73459072, 8145.03171623],\n",
              "        [6590.82196174, 7763.1190871 ]]))"
            ]
          },
          "metadata": {
            "tags": []
          },
          "execution_count": 240
        }
      ]
    },
    {
      "cell_type": "code",
      "metadata": {
        "id": "sb5BnoQYsKSC"
      },
      "source": [
        "forecast_range=pd.date_range(start='2016-03-31',periods=18,freq='M')"
      ],
      "execution_count": null,
      "outputs": []
    },
    {
      "cell_type": "code",
      "metadata": {
        "colab": {
          "base_uri": "https://localhost:8080/"
        },
        "id": "lgP99b7RsbTP",
        "outputId": "d2ca4e4d-47b0-4cf0-c057-8486c65be53f"
      },
      "source": [
        "forecast_range"
      ],
      "execution_count": null,
      "outputs": [
        {
          "output_type": "execute_result",
          "data": {
            "text/plain": [
              "DatetimeIndex(['2016-03-31', '2016-04-30', '2016-05-31', '2016-06-30',\n",
              "               '2016-07-31', '2016-08-31', '2016-09-30', '2016-10-31',\n",
              "               '2016-11-30', '2016-12-31', '2017-01-31', '2017-02-28',\n",
              "               '2017-03-31', '2017-04-30', '2017-05-31', '2017-06-30',\n",
              "               '2017-07-31', '2017-08-31'],\n",
              "              dtype='datetime64[ns]', freq='M')"
            ]
          },
          "metadata": {
            "tags": []
          },
          "execution_count": 242
        }
      ]
    },
    {
      "cell_type": "code",
      "metadata": {
        "id": "LqXnVFHgs1CX"
      },
      "source": [
        "forecast_df=pd.DataFrame(forecast[0],index=forecast_range,columns=['Prediction'])"
      ],
      "execution_count": null,
      "outputs": []
    },
    {
      "cell_type": "code",
      "metadata": {
        "colab": {
          "base_uri": "https://localhost:8080/",
          "height": 204
        },
        "id": "bAawKASZtrqN",
        "outputId": "80e98538-f625-4e1f-fac8-b6fe986bc88a"
      },
      "source": [
        "forecast_df.head()"
      ],
      "execution_count": null,
      "outputs": [
        {
          "output_type": "execute_result",
          "data": {
            "text/html": [
              "<div>\n",
              "<style scoped>\n",
              "    .dataframe tbody tr th:only-of-type {\n",
              "        vertical-align: middle;\n",
              "    }\n",
              "\n",
              "    .dataframe tbody tr th {\n",
              "        vertical-align: top;\n",
              "    }\n",
              "\n",
              "    .dataframe thead th {\n",
              "        text-align: right;\n",
              "    }\n",
              "</style>\n",
              "<table border=\"1\" class=\"dataframe\">\n",
              "  <thead>\n",
              "    <tr style=\"text-align: right;\">\n",
              "      <th></th>\n",
              "      <th>Prediction</th>\n",
              "    </tr>\n",
              "  </thead>\n",
              "  <tbody>\n",
              "    <tr>\n",
              "      <th>2016-03-31</th>\n",
              "      <td>5475.180871</td>\n",
              "    </tr>\n",
              "    <tr>\n",
              "      <th>2016-04-30</th>\n",
              "      <td>5307.101187</td>\n",
              "    </tr>\n",
              "    <tr>\n",
              "      <th>2016-05-31</th>\n",
              "      <td>5687.340335</td>\n",
              "    </tr>\n",
              "    <tr>\n",
              "      <th>2016-06-30</th>\n",
              "      <td>6496.422486</td>\n",
              "    </tr>\n",
              "    <tr>\n",
              "      <th>2016-07-31</th>\n",
              "      <td>7642.296638</td>\n",
              "    </tr>\n",
              "  </tbody>\n",
              "</table>\n",
              "</div>"
            ],
            "text/plain": [
              "             Prediction\n",
              "2016-03-31  5475.180871\n",
              "2016-04-30  5307.101187\n",
              "2016-05-31  5687.340335\n",
              "2016-06-30  6496.422486\n",
              "2016-07-31  7642.296638"
            ]
          },
          "metadata": {
            "tags": []
          },
          "execution_count": 244
        }
      ]
    },
    {
      "cell_type": "code",
      "metadata": {
        "colab": {
          "base_uri": "https://localhost:8080/"
        },
        "id": "Ykirx4OsetAd",
        "outputId": "ec8c3979-42e8-482d-a711-b2adc4e10361"
      },
      "source": [
        "# Visualize the forecasts (blue=train, green=forecasts)\n",
        "x = np.arange(y.shape[0])\n",
        "plt.plot(x[:50], train, c='blue')\n",
        "plt.plot(x[50:], forecast_df, c='green')\n",
        "plt.show()"
      ],
      "execution_count": null,
      "outputs": [
        {
          "output_type": "display_data",
          "data": {
            "image/png": "[encoded data removed]",
            "text/plain": [
              "<Figure size 432x288 with 1 Axes>"
            ]
          },
          "metadata": {
            "tags": [],
            "needs_background": "light"
          }
        }
      ]
    },
    {
      "cell_type": "markdown",
      "metadata": {
        "id": "ZBnBFcpEjZB_"
      },
      "source": [
        "#Spliting the train and test \n",
        "Alternate way to do it (better)"
      ]
    },
    {
      "cell_type": "code",
      "metadata": {
        "colab": {
          "base_uri": "https://localhost:8080/"
        },
        "id": "cVqMIB_xkRsU",
        "outputId": "9b3970a3-82c5-43e8-aee9-ee5fffd8561e"
      },
      "source": [
        "df_monthly.index"
      ],
      "execution_count": null,
      "outputs": [
        {
          "output_type": "execute_result",
          "data": {
            "text/plain": [
              "DatetimeIndex(['2012-01-31', '2012-02-29', '2012-03-31', '2012-04-30',\n",
              "               '2012-05-31', '2012-06-30', '2012-07-31', '2012-08-31',\n",
              "               '2012-09-30', '2012-10-31', '2012-11-30', '2012-12-31',\n",
              "               '2013-01-31', '2013-02-28', '2013-03-31', '2013-04-30',\n",
              "               '2013-05-31', '2013-06-30', '2013-07-31', '2013-08-31',\n",
              "               '2013-09-30', '2013-10-31', '2013-11-30', '2013-12-31',\n",
              "               '2014-01-31', '2014-02-28', '2014-03-31', '2014-04-30',\n",
              "               '2014-05-31', '2014-06-30', '2014-07-31', '2014-08-31',\n",
              "               '2014-09-30', '2014-10-31', '2014-11-30', '2014-12-31',\n",
              "               '2015-01-31', '2015-02-28', '2015-03-31', '2015-04-30',\n",
              "               '2015-05-31', '2015-06-30', '2015-07-31', '2015-08-31',\n",
              "               '2015-09-30', '2015-10-31', '2015-11-30', '2015-12-31',\n",
              "               '2016-01-31', '2016-02-29', '2016-03-31', '2016-04-30',\n",
              "               '2016-05-31', '2016-06-30', '2016-07-31', '2016-08-31',\n",
              "               '2016-09-30', '2016-10-31', '2016-11-30', '2016-12-31',\n",
              "               '2017-01-31', '2017-02-28', '2017-03-31', '2017-04-30',\n",
              "               '2017-05-31', '2017-06-30', '2017-07-31', '2017-08-31'],\n",
              "              dtype='datetime64[ns]', name='timeStamp', freq='M')"
            ]
          },
          "metadata": {
            "tags": []
          },
          "execution_count": 190
        }
      ]
    },
    {
      "cell_type": "code",
      "metadata": {
        "id": "FqSPY9uejd3A"
      },
      "source": [
        "train = df_monthly[(df_monthly.index.get_level_values(0)>='2012-01-31')&(df_monthly.index.get_level_values(0)<='2016-02-29')]\n",
        "test=df_monthly[df_monthly.index.get_level_values(0)>'2016-02-29'] "
      ],
      "execution_count": null,
      "outputs": []
    },
    {
      "cell_type": "code",
      "metadata": {
        "colab": {
          "base_uri": "https://localhost:8080/"
        },
        "id": "VgFktnNOm_nl",
        "outputId": "8746c228-3165-4a53-fe52-6e02e823462b"
      },
      "source": [
        "train.shape"
      ],
      "execution_count": null,
      "outputs": [
        {
          "output_type": "execute_result",
          "data": {
            "text/plain": [
              "(50, 3)"
            ]
          },
          "metadata": {
            "tags": []
          },
          "execution_count": 184
        }
      ]
    },
    {
      "cell_type": "code",
      "metadata": {
        "colab": {
          "base_uri": "https://localhost:8080/"
        },
        "id": "o-I4R5gVnEo_",
        "outputId": "a584b6b7-fa7e-4ea1-941d-bbe9a4cf05ef"
      },
      "source": [
        "test.shape"
      ],
      "execution_count": null,
      "outputs": [
        {
          "output_type": "execute_result",
          "data": {
            "text/plain": [
              "(18, 3)"
            ]
          },
          "metadata": {
            "tags": []
          },
          "execution_count": 185
        }
      ]
    },
    {
      "cell_type": "code",
      "metadata": {
        "colab": {
          "base_uri": "https://localhost:8080/"
        },
        "id": "1OnHXJNOnHUk",
        "outputId": "4727f7d3-1226-4ff6-c347-543185c05ee2"
      },
      "source": [
        "# Fit your model\n",
        "model = pm.auto_arima( train['demand'], start_p=0 , start_q=0,max_order=4,m=12 , seasonal=True, trace = True, stepwise=True) #seasonal =False\n",
        "\n"
      ],
      "execution_count": null,
      "outputs": [
        {
          "output_type": "stream",
          "text": [
            "Performing stepwise search to minimize aic\n",
            " ARIMA(0,0,0)(1,1,1)[12] intercept   : AIC=inf, Time=0.31 sec\n",
            " ARIMA(0,0,0)(0,1,0)[12] intercept   : AIC=544.510, Time=0.01 sec\n",
            " ARIMA(1,0,0)(1,1,0)[12] intercept   : AIC=543.157, Time=0.23 sec\n",
            " ARIMA(0,0,1)(0,1,1)[12] intercept   : AIC=539.216, Time=0.26 sec\n",
            " ARIMA(0,0,0)(0,1,0)[12]             : AIC=542.562, Time=0.01 sec\n",
            " ARIMA(0,0,1)(0,1,0)[12] intercept   : AIC=539.900, Time=0.05 sec\n",
            " ARIMA(0,0,1)(1,1,1)[12] intercept   : AIC=inf, Time=0.41 sec\n",
            " ARIMA(0,0,1)(0,1,2)[12] intercept   : AIC=inf, Time=0.57 sec\n",
            " ARIMA(0,0,1)(1,1,0)[12] intercept   : AIC=540.394, Time=0.21 sec\n",
            " ARIMA(0,0,1)(1,1,2)[12] intercept   : AIC=inf, Time=0.88 sec\n",
            " ARIMA(0,0,0)(0,1,1)[12] intercept   : AIC=544.042, Time=0.17 sec\n",
            " ARIMA(1,0,1)(0,1,1)[12] intercept   : AIC=inf, Time=0.34 sec\n",
            " ARIMA(0,0,2)(0,1,1)[12] intercept   : AIC=inf, Time=0.36 sec\n",
            " ARIMA(1,0,0)(0,1,1)[12] intercept   : AIC=541.955, Time=0.23 sec\n",
            " ARIMA(1,0,2)(0,1,1)[12] intercept   : AIC=inf, Time=0.49 sec\n",
            " ARIMA(0,0,1)(0,1,1)[12]             : AIC=537.646, Time=0.12 sec\n",
            " ARIMA(0,0,1)(0,1,0)[12]             : AIC=538.041, Time=0.03 sec\n",
            " ARIMA(0,0,1)(1,1,1)[12]             : AIC=538.695, Time=0.33 sec\n",
            " ARIMA(0,0,1)(0,1,2)[12]             : AIC=537.018, Time=0.40 sec\n",
            " ARIMA(0,0,1)(1,1,2)[12]             : AIC=inf, Time=0.84 sec\n",
            " ARIMA(0,0,0)(0,1,2)[12]             : AIC=inf, Time=0.31 sec\n",
            " ARIMA(1,0,1)(0,1,2)[12]             : AIC=inf, Time=0.50 sec\n",
            " ARIMA(0,0,2)(0,1,2)[12]             : AIC=537.016, Time=0.52 sec\n",
            " ARIMA(0,0,2)(0,1,1)[12]             : AIC=inf, Time=0.18 sec\n",
            " ARIMA(0,0,2)(1,1,2)[12]             : AIC=inf, Time=0.77 sec\n",
            " ARIMA(0,0,2)(1,1,1)[12]             : AIC=inf, Time=0.50 sec\n",
            " ARIMA(1,0,2)(0,1,2)[12]             : AIC=inf, Time=0.86 sec\n",
            " ARIMA(0,0,3)(0,1,2)[12]             : AIC=inf, Time=0.87 sec\n",
            " ARIMA(1,0,3)(0,1,2)[12]             : AIC=inf, Time=1.03 sec\n",
            " ARIMA(0,0,2)(0,1,2)[12] intercept   : AIC=inf, Time=0.87 sec\n",
            "\n",
            "Best model:  ARIMA(0,0,2)(0,1,2)[12]          \n",
            "Total fit time: 12.751 seconds\n"
          ],
          "name": "stdout"
        }
      ]
    },
    {
      "cell_type": "code",
      "metadata": {
        "id": "kaWn5MQQneED"
      },
      "source": [
        "forecasts = model.predict(n_periods=18,return_conf_int=True) "
      ],
      "execution_count": null,
      "outputs": []
    },
    {
      "cell_type": "code",
      "metadata": {
        "colab": {
          "base_uri": "https://localhost:8080/"
        },
        "id": "DqrDCC8iocrs",
        "outputId": "d997ceef-c601-474a-c59f-9375a38fdcc3"
      },
      "source": [
        "forecasts"
      ],
      "execution_count": null,
      "outputs": [
        {
          "output_type": "execute_result",
          "data": {
            "text/plain": [
              "(array([5475.18087059, 5307.10118685, 5687.34033526, 6496.42248642,\n",
              "        7642.29663816, 7357.84302707, 6612.76664553, 5354.43524456,\n",
              "        5299.69598451, 5470.55605678, 5789.51126298, 5676.88345055,\n",
              "        5462.88137038, 5300.53211688, 5619.13911324, 6489.43398762,\n",
              "        7558.88315347, 7176.97052442]), array([[5044.81235049, 5905.54939069],\n",
              "        [4844.68810952, 5769.51426417],\n",
              "        [5214.56038158, 6160.12028895],\n",
              "        [6023.64252679, 6969.20244605],\n",
              "        [7169.51667784, 8115.07659849],\n",
              "        [6885.0630668 , 7830.62298733],\n",
              "        [6139.9867137 , 7085.54657736],\n",
              "        [4881.65555382, 5827.2149353 ],\n",
              "        [4827.15944487, 5772.23252414],\n",
              "        [4998.71508765, 5942.39702592],\n",
              "        [5322.58733867, 6256.43518729],\n",
              "        [5209.96537376, 6143.80152734],\n",
              "        [4895.37370218, 6030.38903858],\n",
              "        [4719.04593771, 5882.01829605],\n",
              "        [5032.99055946, 6205.28766703],\n",
              "        [5903.2854258 , 7075.58254944],\n",
              "        [6972.73459072, 8145.03171623],\n",
              "        [6590.82196174, 7763.1190871 ]]))"
            ]
          },
          "metadata": {
            "tags": []
          },
          "execution_count": 195
        }
      ]
    },
    {
      "cell_type": "code",
      "metadata": {
        "id": "4VQP3FtIoSTh"
      },
      "source": [
        "forecasts_df=pd.DataFrame(forecasts[0],index=test.index,columns=['Prediction'])"
      ],
      "execution_count": null,
      "outputs": []
    },
    {
      "cell_type": "code",
      "metadata": {
        "colab": {
          "base_uri": "https://localhost:8080/",
          "height": 296
        },
        "id": "k0kYq57ioqZd",
        "outputId": "fae0debd-2386-40ea-9f89-6c30ae8676b0"
      },
      "source": [
        "\n",
        "pd.concat([df_monthly['demand'],forecasts_df],axis=1).plot()"
      ],
      "execution_count": null,
      "outputs": [
        {
          "output_type": "execute_result",
          "data": {
            "text/plain": [
              "<matplotlib.axes._subplots.AxesSubplot at 0x7fbfec221490>"
            ]
          },
          "metadata": {
            "tags": []
          },
          "execution_count": 197
        },
        {
          "output_type": "display_data",
          "data": {
            "image/png": "[encoded data removed]",
            "text/plain": [
              "<Figure size 432x288 with 1 Axes>"
            ]
          },
          "metadata": {
            "tags": [],
            "needs_background": "light"
          }
        }
      ]
    }
  ]
}